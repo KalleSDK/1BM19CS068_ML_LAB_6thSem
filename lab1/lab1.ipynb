{
 "cells": [
  {
   "cell_type": "code",
   "execution_count": 1,
   "metadata": {},
   "outputs": [],
   "source": [
    "import pandas as pd\n",
    "import numpy as np"
   ]
  },
  {
   "cell_type": "code",
   "execution_count": 17,
   "metadata": {},
   "outputs": [
    {
     "name": "stdout",
     "output_type": "stream",
     "text": [
      "     sky airtemp humidity    wind water forcast enjoysport\n",
      "0  sunny    warm   normal  strong  warm    same        yes\n",
      "1  sunny    warm     high  strong  warm    same        yes\n",
      "2  rainy    cold     high  strong  warm  change         no\n",
      "3  sunny    warm     high  strong  cool  change        yes n\n",
      "n The attributes are:  [['sunny' 'warm' 'normal' 'strong' 'warm' 'same']\n",
      " ['sunny' 'warm' 'high' 'strong' 'warm' 'same']\n",
      " ['rainy' 'cold' 'high' 'strong' 'warm' 'change']\n",
      " ['sunny' 'warm' 'high' 'strong' 'cool' 'change']]\n",
      "n The target is:  ['yes' 'yes' 'no' 'yes']\n",
      "n The final hypothesis is: ['sunny' 'warm' '?' 'strong' '?' '?']\n"
     ]
    }
   ],
   "source": [
    "data = pd.read_csv(\"data.csv\")\n",
    "print(data,\"n\")\n",
    " \n",
    "d = np.array(data)[:,:-1]\n",
    "print(\"n The attributes are: \",d)\n",
    " \n",
    "target = np.array(data)[:,-1]\n",
    "print(\"n The target is: \",target)\n",
    " \n",
    "\n",
    "def train(c,t):\n",
    "    specific_hypothesis = []\n",
    "    for i, val in enumerate(t):\n",
    "        if val == \"yes\":\n",
    "            specific_hypothesis = c[i].copy()\n",
    "            break\n",
    "             \n",
    "    for i, val in enumerate(c):\n",
    "        if t[i] == \"yes\":\n",
    "            for x in range(len(specific_hypothesis)):\n",
    "                if val[x] != specific_hypothesis[x]:\n",
    "                    specific_hypothesis[x] = '?'\n",
    "                else:\n",
    "                    pass\n",
    "                 \n",
    "    return specific_hypothesis\n",
    " \n",
    "\n",
    "print(\"n The final hypothesis is:\",train(d,target))                    "
   ]
  },
  {
   "cell_type": "code",
   "execution_count": 18,
   "metadata": {},
   "outputs": [
    {
     "name": "stdout",
     "output_type": "stream",
     "text": [
      "Enter the data\n",
      "\n",
      "sample 1\n",
      "['sunny', 'warm', 'normal', 'strong', 'warm', 'same', 'yes']\n",
      "sample 2\n",
      "['sunny', 'warm', 'high', 'strong', 'warm', 'same', 'yes']\n",
      "sample 3\n",
      "['rainy', 'cold', 'high', 'strong', 'warm', 'change', 'no']\n",
      "sample 4\n",
      "['sunny', 'warm', 'high', 'strong', 'cool', 'change', 'yes']\n",
      "['sunny', 'warm', 'normal', 'strong', 'warm', 'same', 'yes']\n",
      "['sunny', 'warm', '?', 'strong', 'warm', 'same', 'yes']\n",
      "['sunny', 'warm', '?', 'strong', 'warm', 'same', 'yes']\n",
      "['sunny', 'warm', '?', 'strong', '?', '?', 'yes']\n"
     ]
    }
   ],
   "source": [
    "n = int(input(\"Enter number of samples: \"))\n",
    "m = int(input(\"Enter number of attributes\"))\n",
    "\n",
    "x = []\n",
    "\n",
    "print(\"Enter the data\\n\")\n",
    "\n",
    "for i in range(n):\n",
    "    print(f\"sample {(i+1)}\")\n",
    "    inp  = input(\"Enter the attributes: \")\n",
    "    inp = inp.split(',')\n",
    "    print(inp)\n",
    "    x.append(inp)\n",
    "\n",
    "hypo = []\n",
    "\n",
    "for i in range(len(x[0])):\n",
    "    if type(x[0][i]) is str:\n",
    "        hypo.append(\"NULL\")\n",
    "    elif type(x[0][i]) is int:\n",
    "        hypo.append(0)\n",
    "    else:\n",
    "        hypo.append(0,0)\n",
    "\n",
    "for i in range(len(x)):\n",
    "    if x[i][-1] == \"yes\":\n",
    "        for j in range(len(hypo)):\n",
    "            if hypo[j]==\"NULL\":\n",
    "                hypo[j]=x[i][j]\n",
    "            elif hypo[j]!=x[i][j]:\n",
    "                hypo[j]=\"?\"\n",
    "    print(hypo)"
   ]
  }
 ],
 "metadata": {
  "interpreter": {
   "hash": "3a4cc44c54d08f35a99d5f8faca6550d7763aca40960fe147db3dc1e88955af2"
  },
  "kernelspec": {
   "display_name": "Python 3.7.4 32-bit",
   "language": "python",
   "name": "python3"
  },
  "language_info": {
   "codemirror_mode": {
    "name": "ipython",
    "version": 3
   },
   "file_extension": ".py",
   "mimetype": "text/x-python",
   "name": "python",
   "nbconvert_exporter": "python",
   "pygments_lexer": "ipython3",
   "version": "3.7.0"
  },
  "orig_nbformat": 4
 },
 "nbformat": 4,
 "nbformat_minor": 2
}
